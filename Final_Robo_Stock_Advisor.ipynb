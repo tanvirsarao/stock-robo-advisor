{
 "cells": [
  {
   "cell_type": "markdown",
   "metadata": {},
   "source": [
    "## PERSONAL ROBO-ADVISOR PROJECT <font color='red'>3RD OVERALL WINNER</font>\n",
    "\n",
    "### Portfolio Strategy Chosen: Market Meet\n",
    "\n",
    "### Welcome to my submission for the CFM program-wide portfolio robo-advisor.\n",
    "\n",
    "### This tool creates a portfolio that returns the closest to the market (S&P500 and TSX60).\n",
    "\n",
    "### Follow along the project and find extensive comments and analysis."
   ]
  },
  {
   "cell_type": "code",
   "execution_count": 123,
   "metadata": {},
   "outputs": [],
   "source": [
    "from IPython.display import display, Math, Latex\n",
    "\n",
    "import pandas as pd\n",
    "import numpy as np\n",
    "import numpy_financial as npf\n",
    "import yfinance as yf\n",
    "import matplotlib.pyplot as plt\n",
    "import random\n",
    "from datetime import datetime\n",
    "\n",
    "from concurrent.futures import ThreadPoolExecutor, as_completed\n",
    "import concurrent.futures \n",
    "import threading\n",
    "\n",
    "import torch as torch\n",
    "import torch.nn as nn\n",
    "from sklearn.preprocessing import MinMaxScaler\n",
    "\n",
    "last_close_date = '2024-11-22'"
   ]
  },
  {
   "cell_type": "markdown",
   "metadata": {},
   "source": [
    "### Runtime\n",
    "- The runtime primarily depends on the trials variable above, as this variable controls the number of calculations in the Monte Carlo Method."
   ]
  },
  {
   "cell_type": "code",
   "execution_count": 38,
   "metadata": {},
   "outputs": [],
   "source": [
    "trials = 10000"
   ]
  },
  {
   "cell_type": "markdown",
   "metadata": {},
   "source": [
    "### Additional Libraries\n",
    "- In addition to the libraries used in class, we chose to use PyTorch, Scikit-learn and Threading related libraries, in order to run our AI training and reduce runtime for the Monte Carlo weightage simulation."
   ]
  },
  {
   "cell_type": "markdown",
   "metadata": {},
   "source": [
    "### Model Performance and Justification\n",
    "## Introduction\n",
    "This part of the document provides a detailed justification for the accuracy and reliability of the AI model developed and evaluated as part of the project. The model leverages an LSTM architecture to address the specific task, and its performance is demonstrated through various metrics and visualizations.\n",
    "\n",
    "## Model Performance\n",
    "The model was trained on a dataset of size n = 718 and the following key metrics were observed during evaluation:\n",
    "Training Accuracy: The model achieved a peak training accuracy of approximately 91.65%.\n",
    "Validation Accuracy: Validation accuracy stabilized around 90.99%, demonstrating good generalization.\n",
    "Loss Reduction: The training and validation loss decreased steadily over the course of training, indicating effective learning and convergence of the model.\n",
    "The consistency between training and validation accuracy, combined with the absence of significant overfitting, supports the model's robustness and its capacity to generalize to unseen data.\n",
    "\n",
    "## Visual Analysis\n",
    "During the training process, loss and accuracy curves were plotted to provide a visual representation of the model's performance. These are seen and analyzed later in the code.\n",
    "\n",
    "## Conclusion\n",
    "Based on the metrics and visual evidence, the LSTM model proves to be accurate and reliable for the task at hand. The alignment of training and validation performance metrics affirms that the model avoids overfitting while achieving a high level of accuracy. These results justify the adoption of this model for practical applications within the project's scope."
   ]
  },
  {
   "cell_type": "code",
   "execution_count": 75,
   "metadata": {},
   "outputs": [
    {
     "name": "stdout",
     "output_type": "stream",
     "text": [
      "<class 'pandas.core.frame.DataFrame'>\n",
      "DatetimeIndex: 718 entries, 2022-01-03 00:00:00-05:00 to 2024-11-08 00:00:00-05:00\n",
      "Data columns (total 1 columns):\n",
      " #   Column  Non-Null Count  Dtype  \n",
      "---  ------  --------------  -----  \n",
      " 0   Close   718 non-null    float64\n",
      "dtypes: float64(1)\n",
      "memory usage: 11.2 KB\n"
     ]
    }
   ],
   "source": [
    "start_date1 = '2022-01-01'\n",
    "end_date1 = '2024-11-10'\n",
    "interv = '1d'\n",
    "stock_ticker = 'AAPL'\n",
    "\n",
    "price = yf.Ticker(stock_ticker).history(start=start_date1, end=end_date1, interval=interv)[['Close']]\n",
    "price.info()"
   ]
  },
  {
   "cell_type": "code",
   "execution_count": 76,
   "metadata": {},
   "outputs": [
    {
     "data": {
      "text/plain": [
       "(718,)"
      ]
     },
     "execution_count": 76,
     "metadata": {},
     "output_type": "execute_result"
    }
   ],
   "source": [
    "scaler = MinMaxScaler(feature_range=(-1,1))\n",
    "price['Close'] = scaler.fit_transform(price['Close'].values.reshape(-1,1))\n",
    "price['Close'].shape"
   ]
  },
  {
   "cell_type": "code",
   "execution_count": 77,
   "metadata": {},
   "outputs": [],
   "source": [
    "input_dim = 1\n",
    "hidden_dim = 30\n",
    "num_layers = 1\n",
    "output_dim = 1\n",
    "num_epochs = 100\n",
    "lookback=20"
   ]
  },
  {
   "cell_type": "code",
   "execution_count": 78,
   "metadata": {},
   "outputs": [
    {
     "name": "stdout",
     "output_type": "stream",
     "text": [
      "(698, 19, 1) (698, 1)\n"
     ]
    }
   ],
   "source": [
    "def split_data(stock, lookback):\n",
    "    data_raw = stock.to_numpy()\n",
    "    data = []\n",
    "    for index in range(len(data_raw) - lookback):\n",
    "        data.append(data_raw[index: index + lookback])\n",
    "    data = np.array(data)\n",
    "    x_train = data[:, :-1, :]\n",
    "    y_train = data[:, -1, :]\n",
    "    return [x_train, y_train]\n",
    "\n",
    "x_train, y_train = split_data(price, lookback)\n",
    "print (x_train.shape, y_train.shape)\n",
    "\n",
    "x_train = torch.from_numpy(x_train).type(torch.Tensor)\n",
    "y_train_lstm = torch.from_numpy(y_train).type(torch.Tensor)"
   ]
  },
  {
   "cell_type": "code",
   "execution_count": 79,
   "metadata": {},
   "outputs": [],
   "source": [
    "class LSTM(nn.Module):\n",
    "    def __init__(self, input_dim, hidden_dim, num_layers, output_dim):\n",
    "        super(LSTM, self).__init__()\n",
    "        self.hidden_dim = hidden_dim\n",
    "        self.num_layers = num_layers\n",
    "        self.lstm = nn.LSTM(input_dim, hidden_dim, num_layers, batch_first=True)\n",
    "        self.fc = nn.Linear(hidden_dim, output_dim)\n",
    "\n",
    "    def forward(self, x):  \n",
    "        h0 = torch.zeros(self.num_layers, x.size(0), self.hidden_dim).requires_grad_()\n",
    "        c0 = torch.zeros(self.num_layers, x.size(0), self.hidden_dim).requires_grad_()\n",
    "        out, (hn, cn) = self.lstm(x, (h0.detach(), c0.detach()))\n",
    "        out = self.fc(out[:, -1, :])\n",
    "        return out"
   ]
  },
  {
   "cell_type": "code",
   "execution_count": 80,
   "metadata": {},
   "outputs": [],
   "source": [
    "model = LSTM(input_dim=input_dim, hidden_dim=hidden_dim, output_dim=output_dim, num_layers=num_layers)\n",
    "criterion = torch.nn.MSELoss()\n",
    "optimiser = torch.optim.Adam(model.parameters(), lr=0.01)"
   ]
  },
  {
   "cell_type": "code",
   "execution_count": 81,
   "metadata": {},
   "outputs": [
    {
     "name": "stdout",
     "output_type": "stream",
     "text": [
      "Epoch  0 MSE:  0.24789269268512726\n",
      "Epoch  1 MSE:  0.22304914891719818\n",
      "Epoch  2 MSE:  0.2051050364971161\n",
      "Epoch  3 MSE:  0.18482506275177002\n",
      "Epoch  4 MSE:  0.15991389751434326\n",
      "Epoch  5 MSE:  0.1291763186454773\n",
      "Epoch  6 MSE:  0.09020235389471054\n",
      "Epoch  7 MSE:  0.042262014001607895\n",
      "Epoch  8 MSE:  0.024742979556322098\n",
      "Epoch  9 MSE:  0.06882239878177643\n",
      "Epoch  10 MSE:  0.040041498839855194\n",
      "Epoch  11 MSE:  0.017551787197589874\n",
      "Epoch  12 MSE:  0.013260002247989178\n",
      "Epoch  13 MSE:  0.018587980419397354\n",
      "Epoch  14 MSE:  0.0249016135931015\n",
      "Epoch  15 MSE:  0.027857879176735878\n",
      "Epoch  16 MSE:  0.026756949722766876\n",
      "Epoch  17 MSE:  0.022573484107851982\n",
      "Epoch  18 MSE:  0.017136242240667343\n",
      "Epoch  19 MSE:  0.01275183167308569\n",
      "Epoch  20 MSE:  0.011375266127288342\n",
      "Epoch  21 MSE:  0.013087647035717964\n",
      "Epoch  22 MSE:  0.015431877225637436\n",
      "Epoch  23 MSE:  0.0155791649594903\n",
      "Epoch  24 MSE:  0.013134256936609745\n",
      "Epoch  25 MSE:  0.00996033102273941\n",
      "Epoch  26 MSE:  0.007905721664428711\n",
      "Epoch  27 MSE:  0.007405572105199099\n",
      "Epoch  28 MSE:  0.00781889259815216\n",
      "Epoch  29 MSE:  0.008373402990400791\n",
      "Epoch  30 MSE:  0.00868385098874569\n",
      "Epoch  31 MSE:  0.008729398250579834\n",
      "Epoch  32 MSE:  0.008607343770563602\n",
      "Epoch  33 MSE:  0.008349026553332806\n",
      "Epoch  34 MSE:  0.007938607595860958\n",
      "Epoch  35 MSE:  0.007465125527232885\n",
      "Epoch  36 MSE:  0.0071494788862764835\n",
      "Epoch  37 MSE:  0.00712030753493309\n",
      "Epoch  38 MSE:  0.007213708013296127\n",
      "Epoch  39 MSE:  0.007127575110644102\n",
      "Epoch  40 MSE:  0.006763716693967581\n",
      "Epoch  41 MSE:  0.006299586035311222\n",
      "Epoch  42 MSE:  0.005939933937042952\n",
      "Epoch  43 MSE:  0.0057244752533733845\n",
      "Epoch  44 MSE:  0.005590126849710941\n",
      "Epoch  45 MSE:  0.0055042048916220665\n",
      "Epoch  46 MSE:  0.00547671178355813\n",
      "Epoch  47 MSE:  0.00549531914293766\n",
      "Epoch  48 MSE:  0.0055046589113771915\n",
      "Epoch  49 MSE:  0.005453582387417555\n",
      "Epoch  50 MSE:  0.005347261670976877\n",
      "Epoch  51 MSE:  0.005243416875600815\n",
      "Epoch  52 MSE:  0.00519400043413043\n",
      "Epoch  53 MSE:  0.005192619748413563\n",
      "Epoch  54 MSE:  0.005185543559491634\n",
      "Epoch  55 MSE:  0.005132268648594618\n",
      "Epoch  56 MSE:  0.005041578318923712\n",
      "Epoch  57 MSE:  0.004946435801684856\n",
      "Epoch  58 MSE:  0.004863767884671688\n",
      "Epoch  59 MSE:  0.004791444167494774\n",
      "Epoch  60 MSE:  0.004729855339974165\n",
      "Epoch  61 MSE:  0.004686763975769281\n",
      "Epoch  62 MSE:  0.0046611870639026165\n",
      "Epoch  63 MSE:  0.0046365573070943356\n",
      "Epoch  64 MSE:  0.004597815684974194\n",
      "Epoch  65 MSE:  0.004550054669380188\n",
      "Epoch  66 MSE:  0.0045119766145944595\n",
      "Epoch  67 MSE:  0.004492348060011864\n",
      "Epoch  68 MSE:  0.004481183830648661\n",
      "Epoch  69 MSE:  0.004464916419237852\n",
      "Epoch  70 MSE:  0.004441023338586092\n",
      "Epoch  71 MSE:  0.0044136508367955685\n",
      "Epoch  72 MSE:  0.0043838429264724255\n",
      "Epoch  73 MSE:  0.004351652693003416\n",
      "Epoch  74 MSE:  0.00432178471237421\n",
      "Epoch  75 MSE:  0.004298863932490349\n",
      "Epoch  76 MSE:  0.00427988450974226\n",
      "Epoch  77 MSE:  0.004257685970515013\n",
      "Epoch  78 MSE:  0.004230577033013105\n",
      "Epoch  79 MSE:  0.004203705582767725\n",
      "Epoch  80 MSE:  0.004181495402008295\n",
      "Epoch  81 MSE:  0.004163283854722977\n",
      "Epoch  82 MSE:  0.004146778956055641\n",
      "Epoch  83 MSE:  0.004131288733333349\n",
      "Epoch  84 MSE:  0.004116070456802845\n",
      "Epoch  85 MSE:  0.004099450074136257\n",
      "Epoch  86 MSE:  0.004081574268639088\n",
      "Epoch  87 MSE:  0.004065060056746006\n",
      "Epoch  88 MSE:  0.004051246214658022\n",
      "Epoch  89 MSE:  0.004038181155920029\n",
      "Epoch  90 MSE:  0.004023626912385225\n",
      "Epoch  91 MSE:  0.004007850773632526\n",
      "Epoch  92 MSE:  0.0039922622963786125\n",
      "Epoch  93 MSE:  0.00397733598947525\n",
      "Epoch  94 MSE:  0.003963111899793148\n",
      "Epoch  95 MSE:  0.003949921578168869\n",
      "Epoch  96 MSE:  0.003937467932701111\n",
      "Epoch  97 MSE:  0.0039247130043804646\n",
      "Epoch  98 MSE:  0.0039115408435463905\n",
      "Epoch  99 MSE:  0.003899048548191786\n",
      "Training time: 1.4160573482513428\n"
     ]
    }
   ],
   "source": [
    "import time  \n",
    "hist = np.zeros(num_epochs)  \n",
    "start_time = time.time()  \n",
    "lstm = []  \n",
    "\n",
    "for t in range(num_epochs):  \n",
    "    y_train_pred = model(x_train)  \n",
    "    loss = criterion(y_train_pred, y_train_lstm)  \n",
    "    print(\"Epoch \", t, \"MSE: \", loss.item())  \n",
    "    hist[t] = loss.item()  \n",
    "\n",
    "    optimiser.zero_grad()  \n",
    "    loss.backward()  \n",
    "    optimiser.step()  \n",
    "\n",
    "training_time = time.time() - start_time  \n",
    "print('Training time: {}'.format(training_time))  "
   ]
  },
  {
   "cell_type": "code",
   "execution_count": 82,
   "metadata": {},
   "outputs": [
    {
     "data": {
      "text/plain": [
       "0.81058586"
      ]
     },
     "execution_count": 82,
     "metadata": {},
     "output_type": "execute_result"
    }
   ],
   "source": [
    "predict_set = []\n",
    "\n",
    "latest_close = price.iloc[(-(lookback-1)):]\n",
    "latest_close = latest_close.to_numpy()\n",
    "input = latest_close.reshape(1,(lookback-1),1)\n",
    "input = torch.from_numpy(input).type(torch.Tensor)\n",
    "\n",
    "with torch.no_grad():\n",
    "    predict = model(input)\n",
    "\n",
    "predict = predict.numpy()\n",
    "predict = predict[0][0]\n",
    "predict_set.append(predict)\n",
    "\n",
    "predict"
   ]
  },
  {
   "cell_type": "code",
   "execution_count": 83,
   "metadata": {},
   "outputs": [
    {
     "data": {
      "text/plain": [
       "array([0.91653702, 0.9231076 , 0.97371798, 1.        , 0.98899018,\n",
       "       0.89842387, 0.89505015, 0.90996672, 0.94530518, 0.95009978,\n",
       "       0.88670361, 0.81229735, 0.75902314, 0.74304077, 0.76861235,\n",
       "       0.75564915, 0.84017739, 0.83537763, 0.81058586])"
      ]
     },
     "execution_count": 83,
     "metadata": {},
     "output_type": "execute_result"
    }
   ],
   "source": [
    "new_close = np.append(latest_close, predict)\n",
    "new_close = np.delete(new_close,0)\n",
    "new_close"
   ]
  },
  {
   "cell_type": "code",
   "execution_count": 84,
   "metadata": {},
   "outputs": [],
   "source": [
    "predict_set = []\n",
    "\n",
    "latest_close = price.iloc[(-(lookback-1)):]\n",
    "latest_close = latest_close.to_numpy()\n",
    "\n",
    "for i in range(10):\n",
    "    input = latest_close.reshape(1,(lookback-1),1)\n",
    "    input = torch.from_numpy(input).type(torch.Tensor)\n",
    "    with torch.no_grad():\n",
    "        predict = model(input)\n",
    "    predict = predict.numpy()\n",
    "    predict = predict[0][0]\n",
    "    predict_set.append(predict)\n",
    "    new_close = np.append(latest_close, predict)\n",
    "    new_close = np.delete(new_close,0)\n",
    "    latest_close = new_close"
   ]
  },
  {
   "cell_type": "code",
   "execution_count": 85,
   "metadata": {},
   "outputs": [],
   "source": [
    "predict_set = np.array(predict_set).reshape(-1, 1)\n",
    "predict_close = scaler.inverse_transform(predict_set)"
   ]
  },
  {
   "cell_type": "code",
   "execution_count": 86,
   "metadata": {},
   "outputs": [
    {
     "data": {
      "text/plain": [
       "<Axes: xlabel='Date'>"
      ]
     },
     "execution_count": 86,
     "metadata": {},
     "output_type": "execute_result"
    },
    {
     "data": {
      "image/png": "[encoded data removed]",
      "text/plain": [
       "<Figure size 640x480 with 1 Axes>"
      ]
     },
     "metadata": {},
     "output_type": "display_data"
    },
    {
     "data": {
      "image/png": "[encoded data removed]",
      "text/plain": [
       "<Figure size 640x480 with 1 Axes>"
      ]
     },
     "metadata": {},
     "output_type": "display_data"
    }
   ],
   "source": [
    "df = pd.DataFrame(predict_close)\n",
    "actual_close = yf.Ticker(stock_ticker).history(start=end_date1, end= '2024-11-20', interval=interv)[['Close']]\n",
    "actual_close = actual_close.iloc[:7]\n",
    "df.plot()\n",
    "actual_close.plot()"
   ]
  },
  {
   "cell_type": "markdown",
   "metadata": {},
   "source": [
    "### File Filter\n",
    "The code below will read 'Tickers.csv' and trim down the stocks by cleaning up some of the tickers based on various factors.\n",
    "- First, our code will skip any tickers which do not have yfinance data.\n",
    "- Second, we filter for the minimum volume.\n",
    "All of the previous data is based on the timeframe between the start_date and end_date variables, and any months with under 18 trading days are dropped."
   ]
  },
  {
   "cell_type": "code",
   "execution_count": 21,
   "metadata": {},
   "outputs": [
    {
     "name": "stderr",
     "output_type": "stream",
     "text": [
      "$ASDFAASDF.TO: possibly delisted; no timezone found\n"
     ]
    },
    {
     "name": "stdout",
     "output_type": "stream",
     "text": [
      "No data found for asdfaasdf.to. Skipping.\n"
     ]
    },
    {
     "name": "stderr",
     "output_type": "stream",
     "text": [
      "$INVALIDTIC: possibly delisted; no timezone found\n"
     ]
    },
    {
     "name": "stdout",
     "output_type": "stream",
     "text": [
      "No data found for INVALIDTIC. Skipping.\n"
     ]
    },
    {
     "name": "stderr",
     "output_type": "stream",
     "text": [
      "$HDFC.NS: possibly delisted; no timezone found\n"
     ]
    },
    {
     "name": "stdout",
     "output_type": "stream",
     "text": [
      "No data found for HDFC.NS. Skipping.\n"
     ]
    },
    {
     "name": "stderr",
     "output_type": "stream",
     "text": [
      "$CELG: possibly delisted; no timezone found\n"
     ]
    },
    {
     "name": "stdout",
     "output_type": "stream",
     "text": [
      "No data found for CELG. Skipping.\n"
     ]
    }
   ],
   "source": [
    "# Parameters\n",
    "start_date = '2023-10-01'\n",
    "end_date = '2024-12-02'\n",
    "def select_least_volatile_stocks(df, num_stocks, min_monthly_volume):\n",
    "    \"\"\"\n",
    "    Filters the least volatile stocks based on historical data and a minimum monthly volume.\n",
    "    \n",
    "    Parameters:\n",
    "        df (pd.DataFrame): DataFrame containing stock tickers in a column named 'Ticker'.\n",
    "        num_stocks (int): Number of least volatile stocks to select.\n",
    "        start_date (str): Start date for historical data (format: 'YYYY-MM-DD').\n",
    "        end_date (str): End date for historical data (format: 'YYYY-MM-DD').\n",
    "        min_monthly_volume (int): Minimum average monthly volume required.\n",
    "        \n",
    "    Returns:\n",
    "        pd.DataFrame: DataFrame containing the least volatile stocks with volatility and average monthly volume values.\n",
    "    \"\"\"\n",
    "    # Create empty list to hold filtered stocks\n",
    "    volatility_data = []\n",
    "    \n",
    "    for ticker in df['Ticker']:\n",
    "        try:\n",
    "            # Fetch historical data using yf.Ticker().history()\n",
    "            ticker_obj = yf.Ticker(ticker)\n",
    "            data = ticker_obj.history(start=start_date, end=end_date)\n",
    "            \n",
    "            if data.empty:\n",
    "                print(f\"No data found for {ticker}. Skipping.\")\n",
    "                continue\n",
    "            \n",
    "            # Calculate daily returns\n",
    "            data['Daily Return'] = data['Close'].pct_change()\n",
    "            \n",
    "            # Calculate standard deviation of daily returns (volatility)\n",
    "            daily_volatility = data['Daily Return'].std()\n",
    "            \n",
    "            # Calculate average monthly volume for months with at least 18 trading days\n",
    "            data.index = data.index.tz_localize(None)  # Remove timezone\n",
    "            data['Month'] = data.index.to_period('M')  # Convert to PeriodIndex\n",
    "            monthly_volume_data = data.groupby('Month')['Volume'].agg(['sum', 'count'])\n",
    "            valid_months = monthly_volume_data[monthly_volume_data['count'] >= 18]  # Only include months with at least 18 trading days\n",
    "            avg_monthly_volume = valid_months['sum'].mean()\n",
    "\n",
    "             #look at whether the trading currency meets the standard:\n",
    "            currency = yf.Ticker(ticker).fast_info['currency']\n",
    "            if currency=='USD' or currency=='CAD':\n",
    "                currency_bool = True\n",
    "            else:\n",
    "                currency_bool = False\n",
    "            \n",
    "            # Apply minimum monthly volume filter\n",
    "            if avg_monthly_volume >= min_monthly_volume and currency_bool:\n",
    "                volatility_data.append({\n",
    "                    'Ticker': ticker,\n",
    "                    'Volatility': daily_volatility,\n",
    "                    'Average Monthly Volume': avg_monthly_volume\n",
    "                })\n",
    "        \n",
    "        except Exception as e:\n",
    "            print(f\"Error processing {ticker}: {e}\")\n",
    "    \n",
    "    # Create a DataFrame for the volatility data\n",
    "    filtered_df = pd.DataFrame(volatility_data)\n",
    "\n",
    "    return filtered_df\n",
    "\n",
    "# Create a DataFrame from the CSV content\n",
    "tickers_df = pd.read_csv('Tickers.csv', header=None, names=['Ticker'])\n",
    "\n",
    "# Pass the DataFrame to your function\n",
    "filtered_stocks = select_least_volatile_stocks(tickers_df, num_stocks=24, min_monthly_volume=100000)"
   ]
  },
  {
   "cell_type": "markdown",
   "metadata": {},
   "source": [
    "### Prediction Model: LSTM\n",
    "In this section, the overall framework of a LSTM model is setted up. A closer explanation of the code is at below"
   ]
  },
  {
   "cell_type": "code",
   "execution_count": 87,
   "metadata": {},
   "outputs": [],
   "source": [
    "#initializing parameters for the model\n",
    "input_dim = 1\n",
    "hidden_dim = 50\n",
    "num_layers = 1\n",
    "output_dim = 1\n",
    "#rounds of training\n",
    "num_epochs = 120\n",
    "#how many data contains in a prediction\n",
    "lookback= 20\n",
    "\n",
    "#scaling data to make it process easier\n",
    "scaler = MinMaxScaler(feature_range=(-1,1))\n",
    "\n",
    "#splits data for training purpose, this gives out two arrays with x shape (lookback-1,len(stock)-lookback,1) and y shape (len(stock)-lookback,1)\n",
    "def split_data(stock, lookback):\n",
    "    data_raw = stock.to_numpy()\n",
    "    data = []\n",
    "    for index in range(len(data_raw) - lookback):\n",
    "        data.append(data_raw[index: index + lookback])\n",
    "    data = np.array(data)\n",
    "    x_train = data[:, :-1, :]\n",
    "    y_train = data[:, -1, :]\n",
    "    return [x_train, y_train]\n",
    "\n",
    "#defines the model\n",
    "class LSTM(nn.Module):\n",
    "    #initialization of the model, attains the init structure from torch.nn, and sets several attributes to it\n",
    "    def __init__(self, input_dim, hidden_dim, num_layers, output_dim):\n",
    "        super(LSTM, self).__init__()\n",
    "        self.hidden_dim = hidden_dim\n",
    "        self.num_layers = num_layers\n",
    "        self.lstm = nn.LSTM(input_dim, hidden_dim, num_layers, batch_first=True)\n",
    "        self.fc = nn.Linear(hidden_dim, output_dim)\n",
    "    #the forward layer, with h0 and c0 being the initial gates\n",
    "    def forward(self, x):  \n",
    "        h0 = torch.zeros(self.num_layers, x.size(0), self.hidden_dim).requires_grad_()\n",
    "        c0 = torch.zeros(self.num_layers, x.size(0), self.hidden_dim).requires_grad_()\n",
    "        out, (hn, cn) = self.lstm(x, (h0.detach(), c0.detach()))\n",
    "        out = self.fc(out[:, -1, :])\n",
    "        return out\n",
    "\n",
    "#uses the model\n",
    "model = LSTM(input_dim=input_dim, hidden_dim=hidden_dim, output_dim=output_dim, num_layers=num_layers)\n",
    "#set evaluation as Mean Squared Error\n",
    "criterion = torch.nn.MSELoss()\n",
    "#use Adam optimiser during training\n",
    "optimiser = torch.optim.Adam(model.parameters(), lr=0.01)"
   ]
  },
  {
   "cell_type": "markdown",
   "metadata": {},
   "source": [
    "### Application function of LSTM\n",
    "In this function LSTMpredict, a predicted price in the end will be generated with a given ticker entry, the full explanation of the code is at below"
   ]
  },
  {
   "cell_type": "code",
   "execution_count": 88,
   "metadata": {},
   "outputs": [],
   "source": [
    "#a function to output prediction result with given stock ticker\n",
    "def LSTMpredict (stock_ticker):\n",
    "    #gets data from yfinance, and create dataset with previous function, then change the datatype to tensor for training\n",
    "    price = yf.Ticker(stock_ticker).history(start='2022-01-01', end=end_date, interval='1d')[['Close']]\n",
    "    price['Close'] = scaler.fit_transform(price['Close'].values.reshape(-1,1))\n",
    "    x_train, y_train = split_data(price, lookback)\n",
    "    x_train = torch.from_numpy(x_train).type(torch.Tensor)\n",
    "    y_train_lstm = torch.from_numpy(y_train).type(torch.Tensor)\n",
    "    #trains model with current stock closing price data\n",
    "    for t in range(num_epochs):\n",
    "        y_train_pred = model(x_train)\n",
    "        loss = criterion(y_train_pred, y_train_lstm)\n",
    "        optimiser.zero_grad()\n",
    "        loss.backward()\n",
    "        optimiser.step()\n",
    "    #initialize prediction set, prepares for input batch of prediction\n",
    "    predict_set = []\n",
    "    latest_close = price.iloc[(-(lookback-1)):]\n",
    "    latest_close = latest_close.to_numpy()\n",
    "    #repeats the step of prediction, basicaly drops the last data and make the output of the prediction the first data, and then repeat\n",
    "    #the loop continues for 5 times, giving a list of prediction in 5 days\n",
    "    for i in range(7):\n",
    "        input = latest_close.reshape(1,(lookback-1),1)\n",
    "        input = torch.from_numpy(input).type(torch.Tensor)\n",
    "        with torch.no_grad():\n",
    "            predict = model(input)\n",
    "        predict = predict.numpy()\n",
    "        predict = predict[0][0]\n",
    "        predict_set.append(predict)\n",
    "        new_close = np.append(latest_close, predict)\n",
    "        new_close = np.delete(new_close,0)\n",
    "        latest_close = new_close\n",
    "    #changing the shape of predicted set and rescale it back to closing price that makes sense\n",
    "    predict_set = np.array(predict_set).reshape(-1, 1)\n",
    "    predict_close = scaler.inverse_transform(predict_set)\n",
    "    #returns the last value of prediction as the eventual predicted price after 5 days\n",
    "    return predict_close[-1][0]"
   ]
  },
  {
   "cell_type": "markdown",
   "metadata": {},
   "source": [
    "### How does this prediction works:\n",
    "In general, the model have many gates and one of them contains long term memory vector, so that when input data in passed in it is calculated and updated during training of the model. We setted up the input batch size as (lookback-1) which is 19, so the model tries to predict the closing price of next day with given series of 19 stock closing price. And it does its calculation in its hidden layers, and eventually output the closing price it thinks the next day will have, and then the outputed result will be compared with actual data through Mean Square Error criteria and the loss is pass back to the model so that it updates its parameters. Train the model (num_epoch), which is 120 times, so it might be more accurate.\n",
    "\n",
    "To use the model to predict, I first make a batch of the latest 19 closing price of the stock, then pass it into the model so it gives a predicted closing price next day, then I drop the last data and insert the newest prediction at first, then repeat the prediction process, with the results stored in a numpy series, then I call the last item as the predicted price after (i) days. Because the model exists some time lag, I tries to cancel it out by making 2 more predictions and then take that as the result.\n",
    "\n",
    "### Why choose this:\n",
    "Initially I though of using CAPM model, but during search I found that the linear relationship assumed by CAPM brokes in short term, I guess it makes sense cause short term stocks are hard to predict. Then I find LSTM might be useful and tires to apply it with other stocks, and finds out that the predicted value in short term (assuming without market risk) is somewhat valueable, it can predict the trend of rise and fall of closing price in a short term (1-8 days from what I tested), and I tested on various past data, which it gives off pretty decent result comparing to real world data. But honestly I don't know if some crazy news might drop in the industry and give changes to stock prices, in this way the model basically broke. I am just praying on this would eventually work."
   ]
  },
  {
   "cell_type": "code",
   "execution_count": 90,
   "metadata": {},
   "outputs": [
    {
     "name": "stderr",
     "output_type": "stream",
     "text": [
      "AW.TO: Period '1y' is invalid, must be one of ['1d', '5d', '1mo', '3mo', 'ytd', 'max']\n"
     ]
    }
   ],
   "source": [
    "last_prices = []\n",
    "predicted_price = []\n",
    "#loop through every ticker to add more data to the dataframe for future operation\n",
    "for ticker in filtered_stocks['Ticker']:\n",
    "    price = yf.Ticker(ticker).fast_info['lastPrice']\n",
    "    last_prices.append(price)\n",
    "    predicted_price.append(LSTMpredict(ticker))\n",
    "\n",
    "#add columns to the filtered_stocks\n",
    "filtered_stocks['Last_Price'] = last_prices\n",
    "filtered_stocks['Predicted_Price'] = predicted_price\n",
    "\n",
    "filtered_stocks.reset_index(inplace=True)\n",
    "filtered_stocks.drop('index',axis=1, inplace=True)"
   ]
  },
  {
   "cell_type": "markdown",
   "metadata": {},
   "source": [
    "### Secondary Filter:\n",
    "here the stocks are arranged in the difference between predicted price and last price, from high to low, and we look at the top 24 stocks"
   ]
  },
  {
   "cell_type": "code",
   "execution_count": 91,
   "metadata": {},
   "outputs": [
    {
     "data": {
      "text/html": [
       "<div>\n",
       "<style scoped>\n",
       "    .dataframe tbody tr th:only-of-type {\n",
       "        vertical-align: middle;\n",
       "    }\n",
       "\n",
       "    .dataframe tbody tr th {\n",
       "        vertical-align: top;\n",
       "    }\n",
       "\n",
       "    .dataframe thead th {\n",
       "        text-align: right;\n",
       "    }\n",
       "</style>\n",
       "<table border=\"1\" class=\"dataframe\">\n",
       "  <thead>\n",
       "    <tr style=\"text-align: right;\">\n",
       "      <th></th>\n",
       "      <th>Ticker</th>\n",
       "      <th>Volatility</th>\n",
       "      <th>Average Monthly Volume</th>\n",
       "      <th>Last_Price</th>\n",
       "      <th>Predicted_Price</th>\n",
       "      <th>diff</th>\n",
       "    </tr>\n",
       "  </thead>\n",
       "  <tbody>\n",
       "    <tr>\n",
       "      <th>0</th>\n",
       "      <td>DUOL</td>\n",
       "      <td>0.035601</td>\n",
       "      <td>1.470274e+07</td>\n",
       "      <td>346.519989</td>\n",
       "      <td>366.241333</td>\n",
       "      <td>19.721344</td>\n",
       "    </tr>\n",
       "    <tr>\n",
       "      <th>1</th>\n",
       "      <td>SHOP.TO</td>\n",
       "      <td>0.033637</td>\n",
       "      <td>5.920117e+07</td>\n",
       "      <td>158.669998</td>\n",
       "      <td>172.949234</td>\n",
       "      <td>14.279236</td>\n",
       "    </tr>\n",
       "    <tr>\n",
       "      <th>2</th>\n",
       "      <td>JPM</td>\n",
       "      <td>0.013996</td>\n",
       "      <td>1.916172e+08</td>\n",
       "      <td>246.250000</td>\n",
       "      <td>258.186676</td>\n",
       "      <td>11.936676</td>\n",
       "    </tr>\n",
       "    <tr>\n",
       "      <th>3</th>\n",
       "      <td>ABBV</td>\n",
       "      <td>0.014386</td>\n",
       "      <td>1.152715e+08</td>\n",
       "      <td>181.770004</td>\n",
       "      <td>187.701416</td>\n",
       "      <td>5.931412</td>\n",
       "    </tr>\n",
       "    <tr>\n",
       "      <th>4</th>\n",
       "      <td>AXP</td>\n",
       "      <td>0.015036</td>\n",
       "      <td>6.171226e+07</td>\n",
       "      <td>302.260010</td>\n",
       "      <td>305.381989</td>\n",
       "      <td>3.121979</td>\n",
       "    </tr>\n",
       "  </tbody>\n",
       "</table>\n",
       "</div>"
      ],
      "text/plain": [
       "    Ticker  Volatility  Average Monthly Volume  Last_Price  Predicted_Price  \\\n",
       "0     DUOL    0.035601            1.470274e+07  346.519989       366.241333   \n",
       "1  SHOP.TO    0.033637            5.920117e+07  158.669998       172.949234   \n",
       "2      JPM    0.013996            1.916172e+08  246.250000       258.186676   \n",
       "3     ABBV    0.014386            1.152715e+08  181.770004       187.701416   \n",
       "4      AXP    0.015036            6.171226e+07  302.260010       305.381989   \n",
       "\n",
       "        diff  \n",
       "0  19.721344  \n",
       "1  14.279236  \n",
       "2  11.936676  \n",
       "3   5.931412  \n",
       "4   3.121979  "
      ]
     },
     "execution_count": 91,
     "metadata": {},
     "output_type": "execute_result"
    }
   ],
   "source": [
    "filtered_stocks['diff'] = filtered_stocks['Predicted_Price'] - filtered_stocks['Last_Price']\n",
    "filtered_stocks = filtered_stocks.sort_values(by='diff', ascending=False).head(24)\n",
    "filtered_stocks.reset_index(inplace=True)\n",
    "filtered_stocks.drop('index',axis=1, inplace=True)\n",
    "filtered_stocks.head()"
   ]
  },
  {
   "cell_type": "markdown",
   "metadata": {},
   "source": [
    "### Stock Market Return Rate Calculator\n",
    "\n",
    "This code calculates expected return rates for the S&P 500 and TSX using LSTM predictions.\n",
    "\n",
    "### Components\n",
    "1. S&P500 Return Rate Calculation\n",
    "2. TSX60 Return Rate Calculation\n",
    "3. Average Return Rate, and take it as our target rate of return as we are doing market meet."
   ]
  },
  {
   "cell_type": "code",
   "execution_count": 92,
   "metadata": {},
   "outputs": [
    {
     "data": {
      "text/plain": [
       "0.13533503263508337"
      ]
     },
     "execution_count": 92,
     "metadata": {},
     "output_type": "execute_result"
    }
   ],
   "source": [
    "#calculate the expected S&P500 return rate\n",
    "sp = yf.Ticker('^GSPC')\n",
    "sp_predict = LSTMpredict('^GSPC')\n",
    "sp_return = ((sp.fast_info['lastPrice'] - sp_predict)/sp_predict) *100\n",
    "\n",
    "#calculate the expected S&P500 return rate\n",
    "tsx = yf.Ticker('^GSPC')\n",
    "tsx_predict = LSTMpredict('XIU.TO')\n",
    "tsx_return = ((sp.fast_info['lastPrice'] - sp_predict)/sp_predict) *100\n",
    "\n",
    "# Average Target portfolio return:\n",
    "target_return =(sp_return + tsx_return) / 2\n",
    "target_return"
   ]
  },
  {
   "cell_type": "markdown",
   "metadata": {},
   "source": [
    "### Random Number Generator with Constraints\n",
    "\n",
    "This code generates a set of random numbers that satisfy specific constraints including range limits and a target sum."
   ]
  },
  {
   "cell_type": "code",
   "execution_count": 93,
   "metadata": {},
   "outputs": [
    {
     "name": "stdout",
     "output_type": "stream",
     "text": [
      "Generated random numbers: [0.05332059 0.03495175 0.03405625 0.05272154 0.0224738  0.03115088\n",
      " 0.02276009 0.06786853 0.02638768 0.04241136 0.06410868 0.05824554\n",
      " 0.05419344 0.05230504 0.06183495 0.0354975  0.04988367 0.02899254\n",
      " 0.03844132 0.03778949 0.0306368  0.03469584 0.03404311 0.03122961]\n",
      "Sum of numbers: 0.9999999999999998\n"
     ]
    }
   ],
   "source": [
    "def generate_random_numbers(n, lower, upper, total):\n",
    "    while True:\n",
    "        # Generate n random numbers uniformly within the range\n",
    "        random_numbers = np.random.uniform(lower, upper, n)\n",
    "        \n",
    "        # Scale the random numbers to sum to the total\n",
    "        scaled_numbers = random_numbers / np.sum(random_numbers) * total\n",
    "        \n",
    "        # Ensure all scaled numbers fall within the range\n",
    "        if np.all(scaled_numbers >= lower) and np.all(scaled_numbers <= upper):\n",
    "            return scaled_numbers\n",
    "\n",
    "\n",
    "# Generate random numbers\n",
    "random_numbers = generate_random_numbers(24, (1/48), 0.15, 1.0)\n",
    "print(\"Generated random numbers:\", random_numbers)\n",
    "print(\"Sum of numbers:\", np.sum(random_numbers))"
   ]
  },
  {
   "cell_type": "markdown",
   "metadata": {},
   "source": [
    "## Portfolio Optimization Documentation\n",
    "### Introduction\n",
    "This documentation covers a portfolio optimization system that uses Monte Carlo simulation with parallel processing to find optimal portfolio weights matching a target return.\n",
    "\n",
    "### Overview\n",
    "The system consists of several key components:\n",
    "- Portfolio metrics calculation\n",
    "- Monte Carlo simulation\n",
    "- Parallel processing implementation\n",
    "- Weight optimization algorithm"
   ]
  },
  {
   "cell_type": "markdown",
   "metadata": {},
   "source": [
    "## Monte Carlo Method for Portfolio Optimization\n",
    "\n",
    "### Overview\n",
    "The Monte Carlo method is a powerful computational technique that uses randomization to solve complex problems. In portfolio optimization, it helps us find approximate optimal solutions when analytical solutions are impractical.\n",
    "\n",
    "### Key Concepts\n",
    "\n",
    "1. **Random Sampling**\n",
    "   - Instead of calculating all possible combinations\n",
    "   - Generate random portfolio weights that satisfy constraints\n",
    "   - Each sample represents one possible portfolio allocation\n",
    "\n",
    "2. **Mathematical Foundation**\n",
    "   The core equation for portfolio weights:\n",
    "   $$\\frac{n_1}{\\sum_{i=1}^{10} n_i} + \\frac{n_2}{\\sum_{i=1}^{10} n_i} + \\cdots + \\frac{n_{10}}{\\sum_{i=1}^{10} n_i} = 1, \\text{ where } n \\in \\mathbb{R}^+$$"
   ]
  },
  {
   "cell_type": "markdown",
   "metadata": {},
   "source": [
    "### This ensures:\n",
    "- All weights sum to 1 (100%)\n",
    "- Each weight is positive\n",
    "- Weights are properly normalized\n",
    "\n",
    "### Implementation\n",
    "\n",
    "```python\n",
    "# Generate random numbers\n",
    "n1 = random.random()\n",
    "n2 = random.random()\n",
    "...\n",
    "n10 = random.random()\n",
    "\n",
    "# Normalize to sum to 1\n",
    "numbers = [n1, n2, ..., n10]\n",
    "for number in numbers:\n",
    " number /= sum(of_numbers)"
   ]
  },
  {
   "cell_type": "markdown",
   "metadata": {},
   "source": [
    "### Multithreading Enhancement\n",
    "Why Use Multithreading?\n",
    "\n",
    "- Parallel Processing\n",
    "- Monte Carlo simulations are \"embarrassingly parallel\"\n",
    "- Each iteration is independent\n",
    "- Can run multiple iterations simultaneously\n",
    "\n",
    "### Performance Benefits\n",
    "\n",
    "- Utilizes multiple CPU cores\n",
    "- Significantly reduces computation time\n",
    "- Example: 10,000 iterations split across 8 threads"
   ]
  },
  {
   "cell_type": "code",
   "execution_count": 94,
   "metadata": {},
   "outputs": [
    {
     "data": {
      "text/plain": [
       "(array([0.02844823, 0.02390949, 0.0244576 , 0.039565  , 0.0369713 ,\n",
       "        0.03161009, 0.02888212, 0.02185003, 0.02273086, 0.04754547,\n",
       "        0.02272151, 0.07920967, 0.067993  , 0.0349693 , 0.03374116,\n",
       "        0.06623263, 0.0375244 , 0.03033908, 0.02757143, 0.06722978,\n",
       "        0.06232102, 0.05964467, 0.041579  , 0.06295318]),\n",
       " 1.6038597297912471)"
      ]
     },
     "execution_count": 94,
     "metadata": {},
     "output_type": "execute_result"
    }
   ],
   "source": [
    "# Function to calculate portfolio return\n",
    "def calculate_portfolio_metrics(df, weights):\n",
    "    # Calculate the projected % return for each stock\n",
    "    df['Projected_Return_%'] = ((df['Predicted_Price'] - df['Last_Price']) / df['Last_Price']) * 100\n",
    "    \n",
    "    # Calculate the weighted projected return of the portfolio\n",
    "    df['Weighted_Return'] = df['Projected_Return_%'] * weights\n",
    "    \n",
    "    weighted_portfolio_return = df['Weighted_Return'].sum()\n",
    "    return weighted_portfolio_return\n",
    "\n",
    "# Function to generate random weights and calculate portfolio return\n",
    "def process_iteration(_):\n",
    "    # Generate random weights for this iteration\n",
    "    random_weights = generate_random_numbers(24, 1/48, 0.15, 1.0)\n",
    "    \n",
    "    # Calculate portfolio return for this set of weights\n",
    "    portfolio_return = calculate_portfolio_metrics(filtered_stocks, random_weights)\n",
    "    \n",
    "    return portfolio_return, random_weights\n",
    "\n",
    "# List to store portfolio returns from each iteration\n",
    "portfolio_returns = []\n",
    "\n",
    "# Variables to track the best set of weights\n",
    "best_weights = None\n",
    "closest_return = float('inf')\n",
    "\n",
    "# Function to update the best weights and closest return\n",
    "def update_best_weights(result):\n",
    "    global best_weights, closest_return\n",
    "    \n",
    "    portfolio_return, random_weights = result\n",
    "    # Check if this return is closer to the target return\n",
    "    if abs(portfolio_return - target_return) < abs(closest_return - target_return):\n",
    "        closest_return = portfolio_return\n",
    "        best_weights = random_weights\n",
    "\n",
    "# Run 10000 iterations using multithreading\n",
    "with concurrent.futures.ThreadPoolExecutor() as executor:\n",
    "    # Submit all iterations\n",
    "    futures = [executor.submit(process_iteration, i) for i in range(10000)]\n",
    "    \n",
    "    # Process results as they complete\n",
    "    for future in concurrent.futures.as_completed(futures):\n",
    "        result = future.result()\n",
    "        update_best_weights(result)\n",
    "\n",
    "# Output the best weights and the corresponding portfolio return\n",
    "best_weights, closest_return"
   ]
  },
  {
   "cell_type": "markdown",
   "metadata": {},
   "source": [
    "### Portfolio Construction and Fee Calculation Logic\n",
    "1. Exchange Rate Setup\n",
    "2. Portfolio Parameters\n",
    "3. Portfolio Construction Loop"
   ]
  },
  {
   "cell_type": "code",
   "execution_count": 96,
   "metadata": {},
   "outputs": [
    {
     "name": "stdout",
     "output_type": "stream",
     "text": [
      "\n",
      "Portfolio Summary:\n",
      "Total Value (excluding fees): $1,000,000.00 CAD\n",
      "Total Value (including fees): $999,981.33 CAD\n",
      "Total Weightage of the Portfolio: 100.00%\n"
     ]
    }
   ],
   "source": [
    "# Conversion rate for USD to CAD\n",
    "usd_to_cad = yf.Ticker(\"USDCAD=x\").history(start=last_close_date).Close.iloc[0]\n",
    "broker_fee = 3.95  # Minimum broker fee in CAD\n",
    "per_share_fee = 0.001  # Fee per share in CAD\n",
    "\n",
    "# Initial portfolio value in CAD\n",
    "total_portfolio_value = 1000000\n",
    "\n",
    "# Create the Portfolio_Final DataFrame directly from the list of rows\n",
    "portfolio_rows = []\n",
    "\n",
    "# Loop through each stock in the best weights and calculate the portfolio details\n",
    "total_value_excluding_fees = 0  # To keep track of the value before fees\n",
    "total_value_including_fees = 0  # To keep track of the value after fees\n",
    "\n",
    "# Loop through each stock in the best weights and calculate the portfolio details\n",
    "for idx, stock in filtered_stocks.iterrows():\n",
    "    ticker = stock[\"Ticker\"]\n",
    "    last_price = stock[\"Last_Price\"]\n",
    "    weight = best_weights[idx]  # Weight from the best_weights\n",
    "    currency = \"CAD\" if \".TO\" in ticker else \"USD\"\n",
    "    \n",
    "    # Convert price to CAD for US stocks\n",
    "    price_in_cad = last_price * usd_to_cad if currency == \"USD\" else last_price\n",
    "    \n",
    "    # Calculate the amount of money allocated to this stock\n",
    "    allocated_value = total_portfolio_value * weight\n",
    "    \n",
    "    # Calculate the number of shares (before considering fees)\n",
    "    shares_before_fees = allocated_value / price_in_cad\n",
    "    \n",
    "    # Calculate the fee per stock\n",
    "    fee_per_stock = min(broker_fee, per_share_fee * shares_before_fees)\n",
    "    \n",
    "    # Adjust the allocated value to account for the fee\n",
    "    adjusted_allocated_value = allocated_value - fee_per_stock\n",
    "    \n",
    "    # Calculate the number of shares after deducting the broker fee\n",
    "    shares = adjusted_allocated_value / price_in_cad\n",
    "    \n",
    "    # Add row to the portfolio_rows list\n",
    "    portfolio_rows.append({\n",
    "        \"Ticker\": ticker,\n",
    "        \"Price\": last_price,\n",
    "        \"Currency\": currency,\n",
    "        \"Shares\": shares,\n",
    "        \"Value\": f\"${adjusted_allocated_value:,.2f}\",  # Add dollar sign and format\n",
    "        \"Weight\": f\"{weight * 100:.2f}%\"  # Display weight as percentage\n",
    "    })\n",
    "    \n",
    "    # Update total value calculations\n",
    "    total_value_excluding_fees += allocated_value\n",
    "    total_value_including_fees += adjusted_allocated_value\n",
    "\n",
    "# Convert portfolio_rows to DataFrame\n",
    "# Reset the index to start from 1\n",
    "portfolio_final = pd.DataFrame(portfolio_rows)\n",
    "portfolio_final.index = portfolio_final.index + 1\n",
    "\n",
    "# Calculate the total weightage of the portfolio (it should be ~100%)\n",
    "total_weight = np.sum(best_weights * 100)\n",
    "\n",
    "# Display the Portfolio_Final DataFrame\n",
    "# Display summary calculations\n",
    "print(\"\\nPortfolio Summary:\")\n",
    "print(f\"Total Value (excluding fees): ${total_value_excluding_fees:,.2f} CAD\")\n",
    "print(f\"Total Value (including fees): ${total_value_including_fees:,.2f} CAD\")\n",
    "print(f\"Total Weightage of the Portfolio: {total_weight:.2f}%\")"
   ]
  },
  {
   "cell_type": "code",
   "execution_count": 97,
   "metadata": {},
   "outputs": [
    {
     "data": {
      "text/html": [
       "<div>\n",
       "<style scoped>\n",
       "    .dataframe tbody tr th:only-of-type {\n",
       "        vertical-align: middle;\n",
       "    }\n",
       "\n",
       "    .dataframe tbody tr th {\n",
       "        vertical-align: top;\n",
       "    }\n",
       "\n",
       "    .dataframe thead th {\n",
       "        text-align: right;\n",
       "    }\n",
       "</style>\n",
       "<table border=\"1\" class=\"dataframe\">\n",
       "  <thead>\n",
       "    <tr style=\"text-align: right;\">\n",
       "      <th></th>\n",
       "      <th>Ticker</th>\n",
       "      <th>Price</th>\n",
       "      <th>Currency</th>\n",
       "      <th>Shares</th>\n",
       "      <th>Value</th>\n",
       "      <th>Weight</th>\n",
       "    </tr>\n",
       "  </thead>\n",
       "  <tbody>\n",
       "    <tr>\n",
       "      <th>1</th>\n",
       "      <td>DUOL</td>\n",
       "      <td>346.519989</td>\n",
       "      <td>USD</td>\n",
       "      <td>58.724449</td>\n",
       "      <td>$28,448.18</td>\n",
       "      <td>2.84%</td>\n",
       "    </tr>\n",
       "    <tr>\n",
       "      <th>2</th>\n",
       "      <td>SHOP.TO</td>\n",
       "      <td>158.669998</td>\n",
       "      <td>CAD</td>\n",
       "      <td>150.685931</td>\n",
       "      <td>$23,909.34</td>\n",
       "      <td>2.39%</td>\n",
       "    </tr>\n",
       "    <tr>\n",
       "      <th>3</th>\n",
       "      <td>JPM</td>\n",
       "      <td>246.250000</td>\n",
       "      <td>USD</td>\n",
       "      <td>71.044287</td>\n",
       "      <td>$24,457.53</td>\n",
       "      <td>2.45%</td>\n",
       "    </tr>\n",
       "    <tr>\n",
       "      <th>4</th>\n",
       "      <td>ABBV</td>\n",
       "      <td>181.770004</td>\n",
       "      <td>USD</td>\n",
       "      <td>155.696923</td>\n",
       "      <td>$39,564.84</td>\n",
       "      <td>3.96%</td>\n",
       "    </tr>\n",
       "    <tr>\n",
       "      <th>5</th>\n",
       "      <td>AXP</td>\n",
       "      <td>302.260010</td>\n",
       "      <td>USD</td>\n",
       "      <td>87.493502</td>\n",
       "      <td>$36,971.21</td>\n",
       "      <td>3.70%</td>\n",
       "    </tr>\n",
       "    <tr>\n",
       "      <th>6</th>\n",
       "      <td>HOOD</td>\n",
       "      <td>37.619999</td>\n",
       "      <td>USD</td>\n",
       "      <td>601.023615</td>\n",
       "      <td>$31,609.49</td>\n",
       "      <td>3.16%</td>\n",
       "    </tr>\n",
       "    <tr>\n",
       "      <th>7</th>\n",
       "      <td>SPG</td>\n",
       "      <td>181.369995</td>\n",
       "      <td>USD</td>\n",
       "      <td>113.908135</td>\n",
       "      <td>$28,882.01</td>\n",
       "      <td>2.89%</td>\n",
       "    </tr>\n",
       "    <tr>\n",
       "      <th>8</th>\n",
       "      <td>OXY</td>\n",
       "      <td>50.419998</td>\n",
       "      <td>USD</td>\n",
       "      <td>309.981634</td>\n",
       "      <td>$21,849.72</td>\n",
       "      <td>2.19%</td>\n",
       "    </tr>\n",
       "    <tr>\n",
       "      <th>9</th>\n",
       "      <td>BK</td>\n",
       "      <td>81.110001</td>\n",
       "      <td>USD</td>\n",
       "      <td>200.461219</td>\n",
       "      <td>$22,730.65</td>\n",
       "      <td>2.27%</td>\n",
       "    </tr>\n",
       "    <tr>\n",
       "      <th>10</th>\n",
       "      <td>SO</td>\n",
       "      <td>87.769997</td>\n",
       "      <td>USD</td>\n",
       "      <td>387.482731</td>\n",
       "      <td>$47,545.08</td>\n",
       "      <td>4.75%</td>\n",
       "    </tr>\n",
       "    <tr>\n",
       "      <th>11</th>\n",
       "      <td>CSCO</td>\n",
       "      <td>59.430000</td>\n",
       "      <td>USD</td>\n",
       "      <td>273.475941</td>\n",
       "      <td>$22,721.24</td>\n",
       "      <td>2.27%</td>\n",
       "    </tr>\n",
       "    <tr>\n",
       "      <th>12</th>\n",
       "      <td>CVS</td>\n",
       "      <td>59.080002</td>\n",
       "      <td>USD</td>\n",
       "      <td>959.014721</td>\n",
       "      <td>$79,208.71</td>\n",
       "      <td>7.92%</td>\n",
       "    </tr>\n",
       "    <tr>\n",
       "      <th>13</th>\n",
       "      <td>ORCL</td>\n",
       "      <td>181.410004</td>\n",
       "      <td>USD</td>\n",
       "      <td>268.098309</td>\n",
       "      <td>$67,992.73</td>\n",
       "      <td>6.80%</td>\n",
       "    </tr>\n",
       "    <tr>\n",
       "      <th>14</th>\n",
       "      <td>PEP</td>\n",
       "      <td>163.050003</td>\n",
       "      <td>USD</td>\n",
       "      <td>153.411186</td>\n",
       "      <td>$34,969.14</td>\n",
       "      <td>3.50%</td>\n",
       "    </tr>\n",
       "    <tr>\n",
       "      <th>15</th>\n",
       "      <td>GM</td>\n",
       "      <td>55.040001</td>\n",
       "      <td>USD</td>\n",
       "      <td>438.499163</td>\n",
       "      <td>$33,740.72</td>\n",
       "      <td>3.37%</td>\n",
       "    </tr>\n",
       "    <tr>\n",
       "      <th>16</th>\n",
       "      <td>SLB</td>\n",
       "      <td>43.630001</td>\n",
       "      <td>USD</td>\n",
       "      <td>1085.856589</td>\n",
       "      <td>$66,231.54</td>\n",
       "      <td>6.62%</td>\n",
       "    </tr>\n",
       "    <tr>\n",
       "      <th>17</th>\n",
       "      <td>AW.TO</td>\n",
       "      <td>36.640000</td>\n",
       "      <td>CAD</td>\n",
       "      <td>1024.109634</td>\n",
       "      <td>$37,523.38</td>\n",
       "      <td>3.75%</td>\n",
       "    </tr>\n",
       "    <tr>\n",
       "      <th>18</th>\n",
       "      <td>BAC</td>\n",
       "      <td>47.040001</td>\n",
       "      <td>USD</td>\n",
       "      <td>461.340143</td>\n",
       "      <td>$30,338.61</td>\n",
       "      <td>3.03%</td>\n",
       "    </tr>\n",
       "    <tr>\n",
       "      <th>19</th>\n",
       "      <td>AUST</td>\n",
       "      <td>1.840000</td>\n",
       "      <td>USD</td>\n",
       "      <td>10716.969751</td>\n",
       "      <td>$27,567.48</td>\n",
       "      <td>2.76%</td>\n",
       "    </tr>\n",
       "    <tr>\n",
       "      <th>20</th>\n",
       "      <td>T.TO</td>\n",
       "      <td>21.900000</td>\n",
       "      <td>CAD</td>\n",
       "      <td>3069.712855</td>\n",
       "      <td>$67,226.71</td>\n",
       "      <td>6.72%</td>\n",
       "    </tr>\n",
       "    <tr>\n",
       "      <th>21</th>\n",
       "      <td>T.TO</td>\n",
       "      <td>21.900000</td>\n",
       "      <td>CAD</td>\n",
       "      <td>2845.578809</td>\n",
       "      <td>$62,318.17</td>\n",
       "      <td>6.23%</td>\n",
       "    </tr>\n",
       "    <tr>\n",
       "      <th>22</th>\n",
       "      <td>VZ</td>\n",
       "      <td>43.849998</td>\n",
       "      <td>USD</td>\n",
       "      <td>972.943914</td>\n",
       "      <td>$59,643.70</td>\n",
       "      <td>5.96%</td>\n",
       "    </tr>\n",
       "    <tr>\n",
       "      <th>23</th>\n",
       "      <td>RY.TO</td>\n",
       "      <td>175.800003</td>\n",
       "      <td>CAD</td>\n",
       "      <td>236.511709</td>\n",
       "      <td>$41,578.76</td>\n",
       "      <td>4.16%</td>\n",
       "    </tr>\n",
       "    <tr>\n",
       "      <th>24</th>\n",
       "      <td>TD.TO</td>\n",
       "      <td>78.970001</td>\n",
       "      <td>CAD</td>\n",
       "      <td>797.168278</td>\n",
       "      <td>$62,952.38</td>\n",
       "      <td>6.30%</td>\n",
       "    </tr>\n",
       "  </tbody>\n",
       "</table>\n",
       "</div>"
      ],
      "text/plain": [
       "     Ticker       Price Currency        Shares       Value Weight\n",
       "1      DUOL  346.519989      USD     58.724449  $28,448.18  2.84%\n",
       "2   SHOP.TO  158.669998      CAD    150.685931  $23,909.34  2.39%\n",
       "3       JPM  246.250000      USD     71.044287  $24,457.53  2.45%\n",
       "4      ABBV  181.770004      USD    155.696923  $39,564.84  3.96%\n",
       "5       AXP  302.260010      USD     87.493502  $36,971.21  3.70%\n",
       "6      HOOD   37.619999      USD    601.023615  $31,609.49  3.16%\n",
       "7       SPG  181.369995      USD    113.908135  $28,882.01  2.89%\n",
       "8       OXY   50.419998      USD    309.981634  $21,849.72  2.19%\n",
       "9        BK   81.110001      USD    200.461219  $22,730.65  2.27%\n",
       "10       SO   87.769997      USD    387.482731  $47,545.08  4.75%\n",
       "11     CSCO   59.430000      USD    273.475941  $22,721.24  2.27%\n",
       "12      CVS   59.080002      USD    959.014721  $79,208.71  7.92%\n",
       "13     ORCL  181.410004      USD    268.098309  $67,992.73  6.80%\n",
       "14      PEP  163.050003      USD    153.411186  $34,969.14  3.50%\n",
       "15       GM   55.040001      USD    438.499163  $33,740.72  3.37%\n",
       "16      SLB   43.630001      USD   1085.856589  $66,231.54  6.62%\n",
       "17    AW.TO   36.640000      CAD   1024.109634  $37,523.38  3.75%\n",
       "18      BAC   47.040001      USD    461.340143  $30,338.61  3.03%\n",
       "19     AUST    1.840000      USD  10716.969751  $27,567.48  2.76%\n",
       "20     T.TO   21.900000      CAD   3069.712855  $67,226.71  6.72%\n",
       "21     T.TO   21.900000      CAD   2845.578809  $62,318.17  6.23%\n",
       "22       VZ   43.849998      USD    972.943914  $59,643.70  5.96%\n",
       "23    RY.TO  175.800003      CAD    236.511709  $41,578.76  4.16%\n",
       "24    TD.TO   78.970001      CAD    797.168278  $62,952.38  6.30%"
      ]
     },
     "execution_count": 97,
     "metadata": {},
     "output_type": "execute_result"
    }
   ],
   "source": [
    "portfolio_final"
   ]
  },
  {
   "cell_type": "markdown",
   "metadata": {},
   "source": [
    "## Portfolio Historical Performance\n",
    "\n",
    "The graph compares our portfolio's performance against the market average (combined S&P 500 and TSX 60) over the past year. As shown in the red line (our portfolio) versus the blue line (market average), our portfolio has closely tracked market returns, with correlation in both upward and downward movements. This alignment with market performance is consistent with our \"Market Meet\" strategy. While there have been periods of slight outperformance and underperformance, the overall trajectory demonstrates that our portfolio successfully maintains market parity, suggesting effective diversification and market representation in our stock selection.\n",
    "\n",
    "\n",
    "%\n",
    "The final returns indicate we've actually slightlyunderperformedd the market average while maintaining similar risk characteristics, validating our portfolio construction approach."
   ]
  },
  {
   "cell_type": "markdown",
   "metadata": {},
   "source": [
    "### Market Return: 37.23%\n",
    "### Portfolio Return: 32.88%"
   ]
  },
  {
   "cell_type": "code",
   "execution_count": 121,
   "metadata": {},
   "outputs": [
    {
     "name": "stderr",
     "output_type": "stream",
     "text": [
      "[*********************100%***********************]  1 of 1 completed\n",
      "[*********************100%***********************]  1 of 1 completed\n",
      "[*********************100%***********************]  1 of 1 completed\n",
      "[*********************100%***********************]  1 of 1 completed\n",
      "[*********************100%***********************]  1 of 1 completed\n",
      "[*********************100%***********************]  1 of 1 completed"
     ]
    },
    {
     "name": "stdout",
     "output_type": "stream",
     "text": [
      "\n"
     ]
    },
    {
     "name": "stderr",
     "output_type": "stream",
     "text": [
      "\n",
      "[*********************100%***********************]  1 of 1 completed\n",
      "[*********************100%***********************]  1 of 1 completed\n",
      "[*********************100%***********************]  1 of 1 completed\n",
      "[*********************100%***********************]  1 of 1 completed\n",
      "[*********************100%***********************]  1 of 1 completed\n",
      "[*********************100%***********************]  1 of 1 completed\n",
      "[*********************100%***********************]  1 of 1 completed\n",
      "[*********************100%***********************]  1 of 1 completed\n",
      "[*********************100%***********************]  1 of 1 completed\n",
      "[*********************100%***********************]  1 of 1 completed\n",
      "[*********************100%***********************]  1 of 1 completed\n",
      "[*********************100%***********************]  1 of 1 completed\n",
      "[*********************100%***********************]  1 of 1 completed\n",
      "[*********************100%***********************]  1 of 1 completed\n",
      "[*********************100%***********************]  1 of 1 completed"
     ]
    },
    {
     "name": "stdout",
     "output_type": "stream",
     "text": [
      "\n"
     ]
    },
    {
     "name": "stderr",
     "output_type": "stream",
     "text": [
      "\n",
      "[*********************100%***********************]  1 of 1 completed\n",
      "[*********************100%***********************]  1 of 1 completed\n",
      "[*********************100%***********************]  1 of 1 completed"
     ]
    },
    {
     "name": "stdout",
     "output_type": "stream",
     "text": [
      "\n",
      "\n"
     ]
    },
    {
     "name": "stderr",
     "output_type": "stream",
     "text": [
      "\n",
      "[*********************100%***********************]  1 of 1 completed\n",
      "[*********************100%***********************]  1 of 1 completed\n",
      "[*********************100%***********************]  1 of 1 completed\n"
     ]
    },
    {
     "name": "stdout",
     "output_type": "stream",
     "text": [
      "\n",
      "\n"
     ]
    },
    {
     "data": {
      "image/png": "[encoded data removed]",
      "text/plain": [
       "<Figure size 1200x600 with 1 Axes>"
      ]
     },
     "metadata": {},
     "output_type": "display_data"
    },
    {
     "name": "stdout",
     "output_type": "stream",
     "text": [
      "\n",
      "Market Return: 37.23%\n",
      "Portfolio Return: 32.88%\n"
     ]
    }
   ],
   "source": [
    "end_date = '2024-10-01'\n",
    "start_date = '2023-10-01'\n",
    "\n",
    "# Get exchange rate data\n",
    "usd_cad = yf.download(\"USDCAD=X\", start=start_date, end=end_date)['Adj Close'].ffill()\n",
    "\n",
    "# Calculate market return\n",
    "sp500 = yf.download('^GSPC', start=start_date)['Adj Close']\n",
    "tsx = yf.download('^GSPTSE', start=start_date)['Adj Close']\n",
    "sp500_norm = sp500 / sp500.iloc[0] * 100\n",
    "tsx_norm = tsx / tsx.iloc[0] * 100\n",
    "market_return = (sp500_norm + tsx_norm) / 2\n",
    "\n",
    "# Initialize portfolio value with market dates\n",
    "portfolio_value = pd.Series(0, index=sp500.index)\n",
    "\n",
    "# Add value of each stock to portfolio for each day\n",
    "for _, row in portfolio_final.iterrows():\n",
    "    try:\n",
    "        stock_data = yf.download(row['Ticker'], start=start_date)['Adj Close']\n",
    "        # Forward fill any missing values\n",
    "        stock_data = stock_data.ffill()\n",
    "        shares = row['Shares']\n",
    "        \n",
    "        if row['Currency'] == 'USD':\n",
    "            # Make sure dates align for USD conversion\n",
    "            aligned_fx = usd_cad.reindex(stock_data.index).ffill()\n",
    "            daily_value = stock_data * shares * aligned_fx\n",
    "        else:\n",
    "            daily_value = stock_data * shares\n",
    "        \n",
    "        # Check for any NaN values before adding\n",
    "        if daily_value.isna().any():\n",
    "            print(\"\")\n",
    "            \n",
    "        portfolio_value = portfolio_value.add(daily_value, fill_value=portfolio_value.ffill())\n",
    "        \n",
    "    except Exception as e:\n",
    "        print(\"\")\n",
    "\n",
    "# Forward fill any remaining NaN values in portfolio value\n",
    "portfolio_value = portfolio_value.ffill()\n",
    "\n",
    "# Normalize portfolio value to 100\n",
    "portfolio_return = portfolio_value / portfolio_value.iloc[0] * 100\n",
    "\n",
    "# Plot both lines\n",
    "plt.figure(figsize=(12, 6))\n",
    "plt.plot(market_return.index, market_return, label='Market Average (S&P 500 + TSX)/2', color='blue')\n",
    "plt.plot(portfolio_return.index, portfolio_return, label='Portfolio', color='red')\n",
    "plt.title('Portfolio vs Market Return (Normalized to 100)')\n",
    "plt.xlabel('Date')\n",
    "plt.ylabel('Value')\n",
    "plt.grid(True)\n",
    "plt.legend()\n",
    "plt.show()\n",
    "\n",
    "# Print final returns\n",
    "print(f\"\\nMarket Return: {((market_return.iloc[-1] - 100)):.2f}%\")\n",
    "print(f\"Portfolio Return: {((portfolio_return.iloc[-1] - 100)):.2f}%\")"
   ]
  },
  {
   "cell_type": "markdown",
   "metadata": {},
   "source": [
    "### Create final output DataFrame\n",
    "\n",
    "- Now that we have our desired list of stocks along with their best weightings, we build our final portfolio."
   ]
  },
  {
   "cell_type": "code",
   "execution_count": 98,
   "metadata": {},
   "outputs": [
    {
     "data": {
      "text/html": [
       "<div>\n",
       "<style scoped>\n",
       "    .dataframe tbody tr th:only-of-type {\n",
       "        vertical-align: middle;\n",
       "    }\n",
       "\n",
       "    .dataframe tbody tr th {\n",
       "        vertical-align: top;\n",
       "    }\n",
       "\n",
       "    .dataframe thead th {\n",
       "        text-align: right;\n",
       "    }\n",
       "</style>\n",
       "<table border=\"1\" class=\"dataframe\">\n",
       "  <thead>\n",
       "    <tr style=\"text-align: right;\">\n",
       "      <th></th>\n",
       "      <th>Ticker</th>\n",
       "      <th>Shares</th>\n",
       "    </tr>\n",
       "  </thead>\n",
       "  <tbody>\n",
       "    <tr>\n",
       "      <th>1</th>\n",
       "      <td>DUOL</td>\n",
       "      <td>58.724449</td>\n",
       "    </tr>\n",
       "    <tr>\n",
       "      <th>2</th>\n",
       "      <td>SHOP.TO</td>\n",
       "      <td>150.685931</td>\n",
       "    </tr>\n",
       "    <tr>\n",
       "      <th>3</th>\n",
       "      <td>JPM</td>\n",
       "      <td>71.044287</td>\n",
       "    </tr>\n",
       "    <tr>\n",
       "      <th>4</th>\n",
       "      <td>ABBV</td>\n",
       "      <td>155.696923</td>\n",
       "    </tr>\n",
       "    <tr>\n",
       "      <th>5</th>\n",
       "      <td>AXP</td>\n",
       "      <td>87.493502</td>\n",
       "    </tr>\n",
       "    <tr>\n",
       "      <th>6</th>\n",
       "      <td>HOOD</td>\n",
       "      <td>601.023615</td>\n",
       "    </tr>\n",
       "    <tr>\n",
       "      <th>7</th>\n",
       "      <td>SPG</td>\n",
       "      <td>113.908135</td>\n",
       "    </tr>\n",
       "    <tr>\n",
       "      <th>8</th>\n",
       "      <td>OXY</td>\n",
       "      <td>309.981634</td>\n",
       "    </tr>\n",
       "    <tr>\n",
       "      <th>9</th>\n",
       "      <td>BK</td>\n",
       "      <td>200.461219</td>\n",
       "    </tr>\n",
       "    <tr>\n",
       "      <th>10</th>\n",
       "      <td>SO</td>\n",
       "      <td>387.482731</td>\n",
       "    </tr>\n",
       "    <tr>\n",
       "      <th>11</th>\n",
       "      <td>CSCO</td>\n",
       "      <td>273.475941</td>\n",
       "    </tr>\n",
       "    <tr>\n",
       "      <th>12</th>\n",
       "      <td>CVS</td>\n",
       "      <td>959.014721</td>\n",
       "    </tr>\n",
       "    <tr>\n",
       "      <th>13</th>\n",
       "      <td>ORCL</td>\n",
       "      <td>268.098309</td>\n",
       "    </tr>\n",
       "    <tr>\n",
       "      <th>14</th>\n",
       "      <td>PEP</td>\n",
       "      <td>153.411186</td>\n",
       "    </tr>\n",
       "    <tr>\n",
       "      <th>15</th>\n",
       "      <td>GM</td>\n",
       "      <td>438.499163</td>\n",
       "    </tr>\n",
       "    <tr>\n",
       "      <th>16</th>\n",
       "      <td>SLB</td>\n",
       "      <td>1085.856589</td>\n",
       "    </tr>\n",
       "    <tr>\n",
       "      <th>17</th>\n",
       "      <td>AW.TO</td>\n",
       "      <td>1024.109634</td>\n",
       "    </tr>\n",
       "    <tr>\n",
       "      <th>18</th>\n",
       "      <td>BAC</td>\n",
       "      <td>461.340143</td>\n",
       "    </tr>\n",
       "    <tr>\n",
       "      <th>19</th>\n",
       "      <td>AUST</td>\n",
       "      <td>10716.969751</td>\n",
       "    </tr>\n",
       "    <tr>\n",
       "      <th>20</th>\n",
       "      <td>T.TO</td>\n",
       "      <td>3069.712855</td>\n",
       "    </tr>\n",
       "    <tr>\n",
       "      <th>21</th>\n",
       "      <td>T.TO</td>\n",
       "      <td>2845.578809</td>\n",
       "    </tr>\n",
       "    <tr>\n",
       "      <th>22</th>\n",
       "      <td>VZ</td>\n",
       "      <td>972.943914</td>\n",
       "    </tr>\n",
       "    <tr>\n",
       "      <th>23</th>\n",
       "      <td>RY.TO</td>\n",
       "      <td>236.511709</td>\n",
       "    </tr>\n",
       "    <tr>\n",
       "      <th>24</th>\n",
       "      <td>TD.TO</td>\n",
       "      <td>797.168278</td>\n",
       "    </tr>\n",
       "  </tbody>\n",
       "</table>\n",
       "</div>"
      ],
      "text/plain": [
       "     Ticker        Shares\n",
       "1      DUOL     58.724449\n",
       "2   SHOP.TO    150.685931\n",
       "3       JPM     71.044287\n",
       "4      ABBV    155.696923\n",
       "5       AXP     87.493502\n",
       "6      HOOD    601.023615\n",
       "7       SPG    113.908135\n",
       "8       OXY    309.981634\n",
       "9        BK    200.461219\n",
       "10       SO    387.482731\n",
       "11     CSCO    273.475941\n",
       "12      CVS    959.014721\n",
       "13     ORCL    268.098309\n",
       "14      PEP    153.411186\n",
       "15       GM    438.499163\n",
       "16      SLB   1085.856589\n",
       "17    AW.TO   1024.109634\n",
       "18      BAC    461.340143\n",
       "19     AUST  10716.969751\n",
       "20     T.TO   3069.712855\n",
       "21     T.TO   2845.578809\n",
       "22       VZ    972.943914\n",
       "23    RY.TO    236.511709\n",
       "24    TD.TO    797.168278"
      ]
     },
     "execution_count": 98,
     "metadata": {},
     "output_type": "execute_result"
    }
   ],
   "source": [
    "stocks_final = pd.concat([portfolio_final['Ticker'],portfolio_final['Shares']], axis=1)\n",
    "stocks_final.to_csv('Final_Portfolio.csv')\n",
    "stocks_final"
   ]
  }
 ],
 "metadata": {
  "kernelspec": {
   "display_name": "Python 3 (ipykernel)",
   "language": "python",
   "name": "python3"
  },
  "language_info": {
   "codemirror_mode": {
    "name": "ipython",
    "version": 3
   },
   "file_extension": ".py",
   "mimetype": "text/x-python",
   "name": "python",
   "nbconvert_exporter": "python",
   "pygments_lexer": "ipython3",
   "version": "3.9.19"
  }
 },
 "nbformat": 4,
 "nbformat_minor": 4
}
